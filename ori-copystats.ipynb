{
 "cells": [
  {
   "cell_type": "code",
   "execution_count": 1,
   "metadata": {},
   "outputs": [],
   "source": [
    "import shutil"
   ]
  },
  {
   "cell_type": "code",
   "execution_count": 2,
   "metadata": {},
   "outputs": [],
   "source": [
    "randomizer_path = 'D:\\\\games\\\\steam\\\\steamapps\\\\common\\\\Ori DE\\\\'\n",
    "destination_path = 'D:\\\\OneDrive - InsomniacToaster\\\\Desktop\\\\OriDERando\\\\Seeds\\\\'\n",
    "seed_file_name = 'randomizer.dat'\n",
    "stats_file_name = 'stats.txt'"
   ]
  },
  {
   "cell_type": "code",
   "execution_count": 3,
   "metadata": {},
   "outputs": [],
   "source": [
    "with open((randomizer_path + seed_file_name), 'r', encoding='utf-8') as f:\n",
    "    seed_headers = f.readline()\n",
    "seed_headers=seed_headers.strip().replace('|' , ',')\n",
    "seed_headers=seed_headers.split(\",\")\n",
    "seed_headers = (seed_headers[-1])"
   ]
  },
  {
   "cell_type": "code",
   "execution_count": 4,
   "metadata": {},
   "outputs": [],
   "source": [
    "with open((randomizer_path + stats_file_name), 'r', encoding='utf-8') as f:\n",
    "    stats_headers = f.readline()\n",
    "stats_headers=stats_headers.strip().replace('|' , ',')\n",
    "stats_headers=stats_headers.split(\",\")\n",
    "stats_headers = (stats_headers[-1])"
   ]
  },
  {
   "cell_type": "code",
   "execution_count": 5,
   "metadata": {},
   "outputs": [
    {
     "name": "stdout",
     "output_type": "stream",
     "text": [
      "676864024\n",
      "82649968\n"
     ]
    }
   ],
   "source": [
    "print(seed_headers)\n",
    "print(stats_headers)"
   ]
  },
  {
   "cell_type": "code",
   "execution_count": 6,
   "metadata": {},
   "outputs": [
    {
     "data": {
      "text/plain": [
       "'D:\\\\OneDrive - InsomniacToaster\\\\Desktop\\\\OriDERando\\\\Seeds\\\\676864024-randomizer.dat'"
      ]
     },
     "execution_count": 6,
     "metadata": {},
     "output_type": "execute_result"
    }
   ],
   "source": [
    "shutil.copy2((randomizer_path + seed_file_name) , (destination_path + seed_headers + '-' +  seed_file_name))"
   ]
  },
  {
   "cell_type": "code",
   "execution_count": 7,
   "metadata": {},
   "outputs": [
    {
     "data": {
      "text/plain": [
       "'D:\\\\OneDrive - InsomniacToaster\\\\Desktop\\\\OriDERando\\\\Seeds\\\\82649968-stats.txt'"
      ]
     },
     "execution_count": 7,
     "metadata": {},
     "output_type": "execute_result"
    }
   ],
   "source": [
    "shutil.copy2((randomizer_path + stats_file_name) , (destination_path + stats_headers + '-' + stats_file_name))"
   ]
  }
 ],
 "metadata": {
  "kernelspec": {
   "display_name": "Python 3",
   "language": "python",
   "name": "python3"
  },
  "language_info": {
   "codemirror_mode": {
    "name": "ipython",
    "version": 3
   },
   "file_extension": ".py",
   "mimetype": "text/x-python",
   "name": "python",
   "nbconvert_exporter": "python",
   "pygments_lexer": "ipython3",
   "version": "3.11.2"
  },
  "orig_nbformat": 4
 },
 "nbformat": 4,
 "nbformat_minor": 2
}
